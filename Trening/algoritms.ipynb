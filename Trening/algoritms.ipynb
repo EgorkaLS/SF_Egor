{
 "cells": [
  {
   "cell_type": "markdown",
   "metadata": {},
   "source": [
    "## ЗДЕСЬ ЖИВУТ АЛГОРИТМЫ И ФУНКЦИИ КОТОРЫЕ МОГУТ ПРИГОДИТЬСЯ!"
   ]
  },
  {
   "cell_type": "markdown",
   "metadata": {},
   "source": [
    "### Преобразование массива из CODEBOARD"
   ]
  },
  {
   "cell_type": "code",
   "execution_count": null,
   "metadata": {},
   "outputs": [],
   "source": [
    "\n",
    "import numpy as np\n",
    "str_mystery=\"481 18 308 13 652 391 63 62 353 111 805 251 36 544 600 799 283 880 \\\n",
    " 470 599 814 507 242 650 180 860 979 298 621 197 572 976 905 427 119 905\\\n",
    "  64 430 742 563 382 211 228 760 567 366 103 409 211 952   5 493 151 267\\\n",
    " 517 495 375  80 341  39 560  85 490  44  17 151  42 688 648 501 437 154\\\n",
    "  66  28 921 642 196 719 208 492 538 687 841 933 386 719 114 261 838 228\\\n",
    " 120 508 316 476 233 902 698 471 604 172 993 790 557 129 446  64 317 997\\\n",
    " 509 710 909 147 228 595 188 246 728 509 365 139 773 426 929 888 534 513\\\n",
    " 666  77 299 943 985 588 137  31 385 405 980 854 327 714 318 909 803 334\\\n",
    " 130 949 532 640 820 975 889 240 878 294 899 488 639 961 819 649 939 163\\\n",
    " 209 879 479 573 557  25 783 332 311 425 140 678 766 492 234 316 811 447\\\n",
    " 772 325 640 387 858 208 739 870 227 385  24 286  22 599 951 994 457  99\\\n",
    " 238 172 549 932 412 545 713  19 785 931 684 333 630 752 191 949 200 361\\\n",
    " 887 243 753 600 635 243 173 249 294 583 106 772 848 387 874 321 562  96\\\n",
    " 211 561 918 868 206 745 710 869 387 600 726 179 336 806 392 612\"\n",
    "str_mystery = str_mystery.split()\n",
    "mystery = np.zeros(len(str_mystery))\n",
    "for i in range(len(str_mystery)):\n",
    "    mystery[i]=str_mystery[i]\n",
    "\n",
    "print(np.std(mystery))"
   ]
  },
  {
   "cell_type": "markdown",
   "metadata": {},
   "source": [
    "### Контроль скобок"
   ]
  },
  {
   "cell_type": "code",
   "execution_count": null,
   "metadata": {},
   "outputs": [],
   "source": [
    "def brackets(line):\n",
    "    # Напишите тело функции\n",
    "    from collections import deque\n",
    "    dec_line=deque()\n",
    "    for i in line:\n",
    "        if i is '(':\n",
    "            dec_line.append(i)\n",
    "        if i is \")\" and len(dec_line) == 0:\n",
    "            return False\n",
    "        if i is \")\" and len(dec_line) != 0:\n",
    "            dec_line.popleft()\n",
    "        \n",
    "            \n",
    "    if False or len(dec_line) != 0:\n",
    "        return False\n",
    "        \n",
    "    if len(dec_line) == 0:\n",
    "        return True\n",
    "        \n",
    "\n",
    "print(brackets(\"(()())\"))"
   ]
  },
  {
   "cell_type": "markdown",
   "metadata": {},
   "source": [
    "### min max  расстояние между векторами"
   ]
  },
  {
   "cell_type": "code",
   "execution_count": null,
   "metadata": {},
   "outputs": [],
   "source": [
    "import numpy as np\n",
    "def min_max_dist(*vectors):\n",
    "    dist_list=list()\n",
    "    for i in range(len(vectors)):\n",
    "        for z in range(i+1, len(vectors)):\n",
    "            dist_list.append(np.linalg.norm(vectors[i] - vectors[z]))\n",
    "    return (min(dist_list),max(dist_list))\n",
    "    \n",
    "vec1 = np.array([1,2,3])\n",
    "vec2 = np.array([4,5,6])\n",
    "vec3 = np.array([7, 8, 9])\n",
    " \n",
    "print(min_max_dist(vec1, vec2, vec3))  "
   ]
  }
 ],
 "metadata": {
  "interpreter": {
   "hash": "7078a8259a9da47834674846d2e014006b0221395b32cf5c78ba3b01ceef5db1"
  },
  "kernelspec": {
   "display_name": "Python 3.9.7 ('base')",
   "language": "python",
   "name": "python3"
  },
  "language_info": {
   "name": "python",
   "version": "3.9.7"
  },
  "orig_nbformat": 4
 },
 "nbformat": 4,
 "nbformat_minor": 2
}
